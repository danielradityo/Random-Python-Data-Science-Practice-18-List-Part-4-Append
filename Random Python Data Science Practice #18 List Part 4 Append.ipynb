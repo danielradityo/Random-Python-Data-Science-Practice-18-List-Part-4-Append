{
 "cells": [
  {
   "cell_type": "markdown",
   "metadata": {},
   "source": [
    "## Random Python Data Science Practice #18"
   ]
  },
  {
   "cell_type": "markdown",
   "metadata": {},
   "source": [
    "## List Part 4 Append"
   ]
  },
  {
   "cell_type": "code",
   "execution_count": 6,
   "metadata": {},
   "outputs": [
    {
     "name": "stdout",
     "output_type": "stream",
     "text": [
      "['Car', 'Motorcycle', 'Bycycle', 'Plane', 'Ship', 'Cano', 'Train', 'Truck', 'Jet', 'Helicopter']\n",
      "['Jakarta', 'Tokyo', 'Bandung', 'New York', 'Las Vegas', 'Yogyakarta', 'Beijing']\n",
      "['Daniel', 9, 3.4, True, 'Data', 'Science', False, 6.2, 4]\n"
     ]
    }
   ],
   "source": [
    "# Create list\n",
    "vehicle_list = ['Car', 'Motorcycle', 'Bycycle', 'Plane', 'Ship', 'Cano', 'Train', 'Truck', 'Jet', 'Helicopter'] # --> List use []\n",
    "city_list = ['Jakarta', 'Tokyo', 'Bandung', 'New York', 'Las Vegas', 'Yogyakarta', 'Beijing']\n",
    "mix_list = ['Daniel', 9, 3.4, True, 'Data', 'Science', False, 6.2, 4]\n",
    "print(vehicle_list)\n",
    "print(city_list)\n",
    "print(mix_list)"
   ]
  },
  {
   "cell_type": "markdown",
   "metadata": {},
   "source": [
    "## Append list"
   ]
  },
  {
   "cell_type": "code",
   "execution_count": 7,
   "metadata": {},
   "outputs": [
    {
     "name": "stdout",
     "output_type": "stream",
     "text": [
      "['Car', 'Motorcycle', 'Bycycle', 'Plane', 'Ship', 'Cano', 'Train', 'Truck', 'Jet', 'Helicopter', 'Tank']\n",
      "['Jakarta', 'Tokyo', 'Bandung', 'New York', 'Las Vegas', 'Yogyakarta', 'Beijing', 'Bekasi']\n",
      "['Daniel', 9, 3.4, True, 'Data', 'Science', False, 6.2, 4, 2]\n"
     ]
    }
   ],
   "source": [
    "# Append is for adding an item to a list\n",
    "vehicle_list.append('Tank')\n",
    "city_list.append('Bekasi')\n",
    "mix_list.append(2)\n",
    "print(vehicle_list)\n",
    "print(city_list)\n",
    "print(mix_list)"
   ]
  }
 ],
 "metadata": {
  "kernelspec": {
   "display_name": "Python 3",
   "language": "python",
   "name": "python3"
  },
  "language_info": {
   "codemirror_mode": {
    "name": "ipython",
    "version": 3
   },
   "file_extension": ".py",
   "mimetype": "text/x-python",
   "name": "python",
   "nbconvert_exporter": "python",
   "pygments_lexer": "ipython3",
   "version": "3.8.5"
  }
 },
 "nbformat": 4,
 "nbformat_minor": 4
}
